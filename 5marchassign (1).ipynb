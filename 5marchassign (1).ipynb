{
  "cells": [
    {
      "cell_type": "markdown",
      "id": "e7e69aaa-aff9-4d31-b4c6-28a98089fe5d",
      "metadata": {
        "id": "e7e69aaa-aff9-4d31-b4c6-28a98089fe5d"
      },
      "source": [
        "# **ASSIGNMENT**"
      ]
    },
    {
      "cell_type": "markdown",
      "id": "ec40c46d-90c1-4828-bf06-56ac8155e13e",
      "metadata": {
        "id": "ec40c46d-90c1-4828-bf06-56ac8155e13e"
      },
      "source": [
        "**Q1. How can you create a Bokeh plot using Python code?**"
      ]
    },
    {
      "cell_type": "markdown",
      "source": [
        "To create a Bokeh plot using Python code, we follow these steps:\n",
        "\n",
        "1. Install Bokeh: Start by installing the Bokeh library in our Python environment. we can use pip to install it: `pip install bokeh`.\n",
        "\n",
        "2. Import the necessary modules: In our Python script or notebook, import the required modules from the Bokeh library. This typically includes `bokeh.plotting`.\n",
        "\n",
        "3. Create a Bokeh plot: Use the plotting module to create a new Bokeh plot object. we can use the `figure` function to create a blank plot or customize it with various properties like title, axis labels, and more.\n",
        "\n",
        "4. Add data and glyphs: Use the various glyph functions provided by Bokeh to add data points and visual markers to the plot. Some commonly used glyph functions include `circle`, `line`, `square`, and `patch`. Pass in the data and customize the appearance of the glyphs using different parameters.\n",
        "\n",
        "5. Configure plot properties: Customize the properties of the plot, such as the axis ranges, grid lines, legends, tooltips, and more. we can use the plot object's attributes and methods to modify these properties.\n",
        "\n",
        "6. Display or save the plot: Once you have configured the plot to our satisfaction, we can choose to either display it directly in a Jupyter Notebook or save it to an HTML file for later use. Bokeh provides functions like `show` and `save` for these purposes.\n",
        "\n",
        "Here's a simple example that demonstrates how to create a basic Bokeh plot:\n",
        "\n",
        "```python\n",
        "from bokeh.plotting import figure, show\n",
        "\n",
        "# Create a new plot\n",
        "p = figure(title=\"My Bokeh Plot\", x_axis_label=\"X\", y_axis_label=\"Y\")\n",
        "\n",
        "# Add data and glyphs\n",
        "x = [1, 2, 3, 4, 5]\n",
        "y = [6, 7, 2, 4, 5]\n",
        "p.circle(x, y, size=10, color=\"navy\", alpha=0.8)\n",
        "\n",
        "# Display the plot\n",
        "show(p)\n",
        "```\n",
        "\n",
        "In this example, we import the necessary module, create a new plot using the `figure` function, specify the title and axis labels, and then use the `circle` glyph function to add circles to the plot. We pass in the x and y data, and customize the size, color, and transparency of the circles. Finally, we use the `show` function to display the plot.\n",
        "\n",
        "When you run this code, it will create a Bokeh plot with circles as glyphs, representing the data points specified by the x and y arrays. The plot will be displayed in a separate browser window or inline in a Jupyter Notebook, depending on your configuration.\n"
      ],
      "metadata": {
        "id": "LUVK_pr1anhI"
      },
      "id": "LUVK_pr1anhI"
    },
    {
      "cell_type": "markdown",
      "id": "522c7c38-8538-42ec-a334-5e9139f17176",
      "metadata": {
        "id": "522c7c38-8538-42ec-a334-5e9139f17176"
      },
      "source": [
        "**Q2. What are glyphs in Bokeh, and how can you add them to a Bokeh plot? Explain with an example.**"
      ]
    },
    {
      "cell_type": "markdown",
      "source": [
        "In Bokeh, glyphs are the visual markers used to represent data on a plot. They can be various shapes, such as circles, squares, lines, or patches, that are placed at specific coordinates on the plot. Glyphs allow you to visually represent and convey information about your data.\n",
        "\n",
        "To add glyphs to a Bokeh plot,we use the `bokeh.plotting` module and its various glyph functions. Here's an example that demonstrates how to add circles as glyphs to a Bokeh plot:\n",
        "\n",
        "```python\n",
        "from bokeh.plotting import figure, show\n",
        "\n",
        "# Create a new plot\n",
        "p = figure(title=\"Scatter Plot\", x_axis_label=\"X\", y_axis_label=\"Y\")\n",
        "\n",
        "# Generate some sample data\n",
        "x = [1, 2, 3, 4, 5]\n",
        "y = [6, 7, 2, 4, 5]\n",
        "\n",
        "# Add circles as glyphs\n",
        "p.circle(x, y, size=10, color=\"navy\", alpha=0.8)\n",
        "\n",
        "# Show the plot\n",
        "show(p)\n",
        "```\n",
        "\n",
        "In this example, we first import the necessary modules. Then, we create a new plot using the `figure` function, specifying the title and axis labels. Next, we generate sample data for the x and y coordinates. Finally, we use the `circle` glyph function to add circles to the plot, passing in the x and y data, along with additional properties like size, color, and alpha (transparency). The `show` function is used to display the plot.\n",
        "\n",
        "When we run this code, it will create a Bokeh plot with circles as glyphs, positioned at the specified x and y coordinates. The circles will have a size of 10, be colored navy, and have an alpha value of 0.8. You can customize various aspects of the glyphs, such as their appearance, size, color, transparency, and more, to suit our visualization needs.\n",
        "\n",
        "Bokeh provides a wide range of glyph functions beyond `circle`, including `square`, `line`, `patch`, `triangle`, and many others. These glyph functions accept different parameters to customize the appearance and behavior of the glyphs."
      ],
      "metadata": {
        "id": "LQ1QZwAqZzd1"
      },
      "id": "LQ1QZwAqZzd1"
    },
    {
      "cell_type": "markdown",
      "id": "09624913-fe77-46a6-a0f7-da5fa24019d7",
      "metadata": {
        "id": "09624913-fe77-46a6-a0f7-da5fa24019d7"
      },
      "source": [
        "**Q3. How can you customize the appearance of a Bokeh plot, including the axes, title, and legend?**"
      ]
    },
    {
      "cell_type": "markdown",
      "source": [
        "1. Title: \n",
        "\n",
        "   ```python\n",
        "   p.title.text = \"My Bokeh Plot\"\n",
        "   ```\n",
        "\n",
        "2. Axes labels: \n",
        "\n",
        "   ```python\n",
        "   p.xaxis.axis_label = \"X-axis\"\n",
        "   p.yaxis.axis_label = \"Y-axis\"\n",
        "   ```\n",
        "\n",
        "3. Axes ranges: \n",
        "\n",
        "   ```python\n",
        "   p.x_range = (0, 10)\n",
        "   p.y_range = (-5, 5)\n",
        "   ```\n",
        "\n",
        "4. Grid lines: \n",
        "\n",
        "   ```python\n",
        "   p.grid.grid_line_color = \"gray\"\n",
        "   p.grid.grid_line_alpha = 0.5\n",
        "   ```\n",
        "\n",
        "5. Legend: \n",
        "\n",
        "   ```python\n",
        "   p.circle(x, y, size=10, color=\"navy\", alpha=0.8, legend_label=\"Data Points\")\n",
        "   p.legend.location = \"top_left\"\n",
        "   p.legend.title = \"Legend\"\n",
        "   ```\n",
        "\n",
        "6. Background and border: \n",
        ":\n",
        "   ```python\n",
        "   p.background_fill_color = \"lightgray\"\n",
        "   p.border_fill_color = \"white\"\n",
        "   p.border_fill_alpha = 0.5\n",
        "   ```\n"
      ],
      "metadata": {
        "id": "IqoBWTQZbfde"
      },
      "id": "IqoBWTQZbfde"
    },
    {
      "cell_type": "markdown",
      "id": "10b20f6a-fa08-4c6f-87f2-c96fcec84b78",
      "metadata": {
        "id": "10b20f6a-fa08-4c6f-87f2-c96fcec84b78"
      },
      "source": [
        "**Q4. What is a Bokeh server, and how can you use it to create interactive plots that can be updated in\n",
        "real time?**"
      ]
    },
    {
      "cell_type": "markdown",
      "id": "0616406f-5eef-4ba1-8e88-e49d39a88f57",
      "metadata": {
        "id": "0616406f-5eef-4ba1-8e88-e49d39a88f57"
      },
      "source": [
        "Bokeh is a Python library that enables interactive visualization in web browsers. It provides a server-based framework called Bokeh Server, which allows us to create and deploy interactive plots that can be updated in real time.\n",
        "\n",
        "Bokeh Server is designed to facilitate the creation of rich, interactive applications for data visualization. It enables us to build web applications that can respond to user inputs and update plots dynamically without the need to reload the entire page. This makes it suitable for scenarios where we want to provide live updates or enable user interactions with your visualizations.\n",
        "\n",
        "To use Bokeh Server to create interactive plots that can be updated in real time,we would follow these steps:\n",
        "\n",
        "1. Install Bokeh: Start by installing the Bokeh library in our Python environment. we can use pip to install it: `pip install bokeh`.\n",
        "\n",
        "2. Import the necessary modules: In our Python script or notebook, import the required modules from the Bokeh library. This typically includes `bokeh.plotting` and `bokeh.server`.\n",
        "\n",
        "3. Create a Bokeh plot: Use the plotting module to create a Bokeh plot object. Specify the data we want to visualize and configure the plot properties like title, axes, and legends.\n",
        "\n",
        "4. Define a callback function: Define a Python function that will be called whenever an event occurs, such as a button click or a slider value change. This function will update the plot data or properties based on the event.\n",
        "\n",
        "5. Attach the callback to the plot: Connect the callback function to the plot so that it gets triggered when the specified event occurs.\n",
        "\n",
        "6. Start the Bokeh Server: Launch the Bokeh Server using the `bokeh serve` command, passing it the script or notebook file that contains our Bokeh plot. The server will start running and provide a URL that can be accessed in a web browser.\n",
        "\n",
        "7. Interact with the plot: Open the provided URL in a web browser, and you will see the Bokeh plot rendered. we can interact with the plot, such as clicking buttons, moving sliders, or entering text in input fields. These interactions will trigger the defined callback function, which can update the plot accordingly.\n",
        "\n",
        "8. Real-time updates: As you interact with the plot, the Bokeh Server will handle the events and send updates to the web browser in real time. The plot will be dynamically updated based on the changes made by the callback function.\n",
        "\n",
        "By using Bokeh Server, we can create dynamic and interactive plots that respond to user interactions or live data updates. It provides a powerful framework for building data-driven web applications with real-time capabilities."
      ]
    },
    {
      "cell_type": "markdown",
      "id": "c34eef32-5299-4054-a868-592ec24b5073",
      "metadata": {
        "id": "c34eef32-5299-4054-a868-592ec24b5073"
      },
      "source": [
        "**Q5. How can you embed a Bokeh plot into a web page or dashboard using Flask or Django?**"
      ]
    },
    {
      "cell_type": "markdown",
      "id": "be743bad-549c-4f6c-acbd-d19ee812f70d",
      "metadata": {
        "id": "be743bad-549c-4f6c-acbd-d19ee812f70d"
      },
      "source": [
        "To embed a Bokeh plot into a web page or dashboard using Flask or Django,we can follow these general steps:\n",
        "\n",
        "1. Install the necessary libraries: Make sure you have Flask or Django and Bokeh installed in our Python environment. wee can use pip to install them: `pip install flask bokeh` or `pip install django bokeh`.\n",
        "\n",
        "2. Create a Flask or Django application: Set up a Flask or Django application according to the framework's guidelines. This typically involves creating a project or an app structure.\n",
        "\n",
        "3. Import the necessary modules: In our Flask or Django application, import the required modules from Bokeh. This typically includes `bokeh.embed` and `bokeh.resources`.\n",
        "\n",
        "4. Create a Bokeh plot: Use the plotting module from Bokeh to create the plot object we want to embed. Specify the data and configure the plot properties.\n",
        "\n",
        "5. Generate the Bokeh script and HTML div: Use the `bokeh.embed.components` function to generate the necessary JavaScript and HTML components for the plot. This function returns a script and a div element that will be embedded into the web page.\n",
        "\n",
        "6. Define a route or view: In Flask, define a route using the `@app.route` decorator. In Django, define a view function that corresponds to the URL where we want to embed the Bokeh plot.\n",
        "\n",
        "7. Pass the script and div to the template: In Flask, render a template and pass the generated script and div as template variables. In Django, pass them as context variables when rendering the template.\n",
        "\n",
        "8. Create a template: Create an HTML template that will be rendered by Flask or Django. In the template, include the provided script and div in the appropriate locations using template variables.\n",
        "\n",
        "9. Render the template: In Flask, return the rendered template using the `render_template` function. In Django, use the `render` function to render the template with the provided context.\n",
        "\n",
        "10. Run the Flask or Django application: Start your Flask or Django application, and navigate to the specified route or view URL in a web browser. we should see the web page with the embedded Bokeh plot.\n",
        "\n",
        "By following these steps, we can integrate Bokeh plots into web pages or dashboards created with Flask or Django. The Bokeh plot will be rendered as an interactive visualization within the web page."
      ]
    },
    {
      "cell_type": "markdown",
      "id": "6d0890bd-bf84-40eb-bb38-dcb0a90af995",
      "metadata": {
        "id": "6d0890bd-bf84-40eb-bb38-dcb0a90af995"
      },
      "source": [
        "-------------------"
      ]
    },
    {
      "cell_type": "code",
      "execution_count": null,
      "id": "3da87c49-b58f-4bfc-9dd5-a8b92a15b0b4",
      "metadata": {
        "id": "3da87c49-b58f-4bfc-9dd5-a8b92a15b0b4"
      },
      "outputs": [],
      "source": []
    }
  ],
  "metadata": {
    "kernelspec": {
      "display_name": "Python 3 (ipykernel)",
      "language": "python",
      "name": "python3"
    },
    "language_info": {
      "codemirror_mode": {
        "name": "ipython",
        "version": 3
      },
      "file_extension": ".py",
      "mimetype": "text/x-python",
      "name": "python",
      "nbconvert_exporter": "python",
      "pygments_lexer": "ipython3",
      "version": "3.10.8"
    },
    "colab": {
      "provenance": []
    }
  },
  "nbformat": 4,
  "nbformat_minor": 5
}